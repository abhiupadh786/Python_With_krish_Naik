{
 "cells": [
  {
   "cell_type": "markdown",
   "id": "28dad6c0",
   "metadata": {},
   "source": [
    "## Tutorial 5- Python Number Methods"
   ]
  },
  {
   "cell_type": "code",
   "execution_count": 1,
   "id": "fbf3cd4c",
   "metadata": {},
   "outputs": [
    {
     "data": {
      "text/plain": [
       "3"
      ]
     },
     "execution_count": 1,
     "metadata": {},
     "output_type": "execute_result"
    }
   ],
   "source": [
    "1+2"
   ]
  },
  {
   "cell_type": "markdown",
   "id": "283f8c3a",
   "metadata": {},
   "source": [
    "## abs()\n",
    "abs(x) will return the absolute value of a number x which we pass in argument. The number x can be integer, float, complex,.."
   ]
  },
  {
   "cell_type": "code",
   "execution_count": 7,
   "id": "0a66fbb0",
   "metadata": {},
   "outputs": [
    {
     "data": {
      "text/plain": [
       "120"
      ]
     },
     "execution_count": 7,
     "metadata": {},
     "output_type": "execute_result"
    }
   ],
   "source": [
    "## 1. Absolute Method\n",
    "abs(120)"
   ]
  },
  {
   "cell_type": "code",
   "execution_count": 8,
   "id": "aebbcdca",
   "metadata": {},
   "outputs": [
    {
     "data": {
      "text/plain": [
       "19"
      ]
     },
     "execution_count": 8,
     "metadata": {},
     "output_type": "execute_result"
    }
   ],
   "source": [
    "abs(-19)"
   ]
  },
  {
   "cell_type": "code",
   "execution_count": 9,
   "id": "2c55f9c5",
   "metadata": {},
   "outputs": [
    {
     "data": {
      "text/plain": [
       "19.65"
      ]
     },
     "execution_count": 9,
     "metadata": {},
     "output_type": "execute_result"
    }
   ],
   "source": [
    "abs(19.65)"
   ]
  },
  {
   "cell_type": "code",
   "execution_count": 10,
   "id": "f9a61c3f",
   "metadata": {},
   "outputs": [
    {
     "data": {
      "text/plain": [
       "32.5"
      ]
     },
     "execution_count": 10,
     "metadata": {},
     "output_type": "execute_result"
    }
   ],
   "source": [
    "abs(32.50)"
   ]
  },
  {
   "cell_type": "code",
   "execution_count": 11,
   "id": "0c7250bb",
   "metadata": {},
   "outputs": [
    {
     "data": {
      "text/plain": [
       "45.04"
      ]
     },
     "execution_count": 11,
     "metadata": {},
     "output_type": "execute_result"
    }
   ],
   "source": [
    "abs(-45.04)"
   ]
  },
  {
   "cell_type": "markdown",
   "id": "e33c675e",
   "metadata": {},
   "source": [
    "## ceil()\n",
    "ceil(x) will return the ceiling value of a number x which we pass in argument. The ceiling value of a number x will be the smallest integer not less than x\n",
    "\n",
    ">**Note** :- This function will not be accessible directly using ceil() method. Math module will be required to access this method."
   ]
  },
  {
   "cell_type": "code",
   "execution_count": 12,
   "id": "98f07b97",
   "metadata": {},
   "outputs": [],
   "source": [
    "import math"
   ]
  },
  {
   "cell_type": "code",
   "execution_count": 13,
   "id": "b0ac6a69",
   "metadata": {},
   "outputs": [
    {
     "data": {
      "text/plain": [
       "49"
      ]
     },
     "execution_count": 13,
     "metadata": {},
     "output_type": "execute_result"
    }
   ],
   "source": [
    "math.ceil(48.66)"
   ]
  },
  {
   "cell_type": "code",
   "execution_count": 14,
   "id": "f0b19f17",
   "metadata": {},
   "outputs": [
    {
     "data": {
      "text/plain": [
       "35"
      ]
     },
     "execution_count": 14,
     "metadata": {},
     "output_type": "execute_result"
    }
   ],
   "source": [
    "math.ceil(34.1)"
   ]
  },
  {
   "cell_type": "code",
   "execution_count": 15,
   "id": "ca92db24",
   "metadata": {},
   "outputs": [
    {
     "data": {
      "text/plain": [
       "-22"
      ]
     },
     "execution_count": 15,
     "metadata": {},
     "output_type": "execute_result"
    }
   ],
   "source": [
    "math.ceil(-22.3)"
   ]
  },
  {
   "cell_type": "markdown",
   "id": "aca5e11e",
   "metadata": {},
   "source": [
    "## floor"
   ]
  },
  {
   "cell_type": "code",
   "execution_count": 16,
   "id": "d18a1f95",
   "metadata": {},
   "outputs": [
    {
     "data": {
      "text/plain": [
       "24"
      ]
     },
     "execution_count": 16,
     "metadata": {},
     "output_type": "execute_result"
    }
   ],
   "source": [
    "math.floor(24.1)"
   ]
  },
  {
   "cell_type": "code",
   "execution_count": 17,
   "id": "4358cd07",
   "metadata": {},
   "outputs": [
    {
     "data": {
      "text/plain": [
       "-20"
      ]
     },
     "execution_count": 17,
     "metadata": {},
     "output_type": "execute_result"
    }
   ],
   "source": [
    "math.floor(-19.1)"
   ]
  },
  {
   "cell_type": "code",
   "execution_count": 18,
   "id": "cb39083e",
   "metadata": {},
   "outputs": [
    {
     "data": {
      "text/plain": [
       "22"
      ]
     },
     "execution_count": 18,
     "metadata": {},
     "output_type": "execute_result"
    }
   ],
   "source": [
    "math.floor(22.68)"
   ]
  },
  {
   "cell_type": "code",
   "execution_count": 19,
   "id": "85c2b18b",
   "metadata": {},
   "outputs": [
    {
     "data": {
      "text/plain": [
       "-9"
      ]
     },
     "execution_count": 19,
     "metadata": {},
     "output_type": "execute_result"
    }
   ],
   "source": [
    "math.floor(-08.04)"
   ]
  },
  {
   "cell_type": "markdown",
   "id": "6f274abe",
   "metadata": {},
   "source": [
    "## exp()\n",
    "exp(x) will return the exponential value of a number x which we pass in argument.\n",
    "\n",
    ">**Note**:- This function will not be accessible directly using exp() method. Math module will be required to access this method."
   ]
  },
  {
   "cell_type": "code",
   "execution_count": 20,
   "id": "514f3676",
   "metadata": {},
   "outputs": [
    {
     "data": {
      "text/plain": [
       "22026.465794806718"
      ]
     },
     "execution_count": 20,
     "metadata": {},
     "output_type": "execute_result"
    }
   ],
   "source": [
    "math.exp(10)"
   ]
  },
  {
   "cell_type": "code",
   "execution_count": 21,
   "id": "7e2e327f",
   "metadata": {},
   "outputs": [
    {
     "data": {
      "text/plain": [
       "0.049787068367863944"
      ]
     },
     "execution_count": 21,
     "metadata": {},
     "output_type": "execute_result"
    }
   ],
   "source": [
    "math.exp(-3)"
   ]
  },
  {
   "cell_type": "code",
   "execution_count": 22,
   "id": "2a1137be",
   "metadata": {},
   "outputs": [
    {
     "data": {
      "text/plain": [
       "0.0009118819655545162"
      ]
     },
     "execution_count": 22,
     "metadata": {},
     "output_type": "execute_result"
    }
   ],
   "source": [
    "math.exp(-7)"
   ]
  },
  {
   "cell_type": "code",
   "execution_count": 23,
   "id": "2c4ec6ad",
   "metadata": {},
   "outputs": [
    {
     "data": {
      "text/plain": [
       "7.38905609893065"
      ]
     },
     "execution_count": 23,
     "metadata": {},
     "output_type": "execute_result"
    }
   ],
   "source": [
    "math.exp(2)"
   ]
  },
  {
   "cell_type": "markdown",
   "id": "d0571b55",
   "metadata": {},
   "source": [
    "## fabs()"
   ]
  },
  {
   "cell_type": "code",
   "execution_count": 27,
   "id": "40c9551e",
   "metadata": {},
   "outputs": [
    {
     "data": {
      "text/plain": [
       "10.53"
      ]
     },
     "execution_count": 27,
     "metadata": {},
     "output_type": "execute_result"
    }
   ],
   "source": [
    "math.fabs(10.53)"
   ]
  },
  {
   "cell_type": "code",
   "execution_count": 25,
   "id": "11f7d9be",
   "metadata": {},
   "outputs": [
    {
     "data": {
      "text/plain": [
       "12.0"
      ]
     },
     "execution_count": 25,
     "metadata": {},
     "output_type": "execute_result"
    }
   ],
   "source": [
    "math.fabs(12)"
   ]
  },
  {
   "cell_type": "code",
   "execution_count": 26,
   "id": "59947e49",
   "metadata": {},
   "outputs": [
    {
     "data": {
      "text/plain": [
       "3.13"
      ]
     },
     "execution_count": 26,
     "metadata": {},
     "output_type": "execute_result"
    }
   ],
   "source": [
    "math.fabs(3.13)"
   ]
  },
  {
   "cell_type": "markdown",
   "id": "a920fb8a",
   "metadata": {},
   "source": [
    "## log(x)"
   ]
  },
  {
   "cell_type": "code",
   "execution_count": 28,
   "id": "0c5ded77",
   "metadata": {},
   "outputs": [
    {
     "data": {
      "text/plain": [
       "0.6931471805599453"
      ]
     },
     "execution_count": 28,
     "metadata": {},
     "output_type": "execute_result"
    }
   ],
   "source": [
    "math.log(2)"
   ]
  },
  {
   "cell_type": "code",
   "execution_count": 29,
   "id": "6c3879f7",
   "metadata": {},
   "outputs": [
    {
     "data": {
      "text/plain": [
       "2.995732273553991"
      ]
     },
     "execution_count": 29,
     "metadata": {},
     "output_type": "execute_result"
    }
   ],
   "source": [
    "math.log(20)"
   ]
  },
  {
   "cell_type": "code",
   "execution_count": 30,
   "id": "721d57ff",
   "metadata": {},
   "outputs": [
    {
     "data": {
      "text/plain": [
       "1.0"
      ]
     },
     "execution_count": 30,
     "metadata": {},
     "output_type": "execute_result"
    }
   ],
   "source": [
    "math.log10(10)"
   ]
  },
  {
   "cell_type": "code",
   "execution_count": 31,
   "id": "46fed6d0",
   "metadata": {},
   "outputs": [
    {
     "data": {
      "text/plain": [
       "3.321928094887362"
      ]
     },
     "execution_count": 31,
     "metadata": {},
     "output_type": "execute_result"
    }
   ],
   "source": [
    "math.log2(10)"
   ]
  },
  {
   "cell_type": "code",
   "execution_count": 32,
   "id": "05828108",
   "metadata": {},
   "outputs": [
    {
     "data": {
      "text/plain": [
       "1.6020599913279623"
      ]
     },
     "execution_count": 32,
     "metadata": {},
     "output_type": "execute_result"
    }
   ],
   "source": [
    "math.log10(40)"
   ]
  },
  {
   "cell_type": "markdown",
   "id": "585e4170",
   "metadata": {},
   "source": [
    "## max()"
   ]
  },
  {
   "cell_type": "code",
   "execution_count": 33,
   "id": "eb3bdd04",
   "metadata": {},
   "outputs": [
    {
     "data": {
      "text/plain": [
       "76"
      ]
     },
     "execution_count": 33,
     "metadata": {},
     "output_type": "execute_result"
    }
   ],
   "source": [
    "max(10,15,20,76,45)"
   ]
  },
  {
   "cell_type": "code",
   "execution_count": 34,
   "id": "654b1317",
   "metadata": {},
   "outputs": [
    {
     "data": {
      "text/plain": [
       "-9"
      ]
     },
     "execution_count": 34,
     "metadata": {},
     "output_type": "execute_result"
    }
   ],
   "source": [
    "max(-59,-49,-23,-9)"
   ]
  },
  {
   "cell_type": "markdown",
   "id": "ee3aec61",
   "metadata": {},
   "source": [
    "## min()"
   ]
  },
  {
   "cell_type": "code",
   "execution_count": 35,
   "id": "f2965828",
   "metadata": {},
   "outputs": [
    {
     "data": {
      "text/plain": [
       "6"
      ]
     },
     "execution_count": 35,
     "metadata": {},
     "output_type": "execute_result"
    }
   ],
   "source": [
    "min(9,10,100,1000,101,8,6)"
   ]
  },
  {
   "cell_type": "code",
   "execution_count": 36,
   "id": "8d3ff46b",
   "metadata": {},
   "outputs": [
    {
     "data": {
      "text/plain": [
       "-500"
      ]
     },
     "execution_count": 36,
     "metadata": {},
     "output_type": "execute_result"
    }
   ],
   "source": [
    "min(-100,-200,-500)"
   ]
  },
  {
   "cell_type": "markdown",
   "id": "c3cc49c8",
   "metadata": {},
   "source": [
    "## pow()"
   ]
  },
  {
   "cell_type": "code",
   "execution_count": 37,
   "id": "5e7df5f1",
   "metadata": {},
   "outputs": [
    {
     "data": {
      "text/plain": [
       "144.0"
      ]
     },
     "execution_count": 37,
     "metadata": {},
     "output_type": "execute_result"
    }
   ],
   "source": [
    "import math\n",
    "math.pow(12,2)"
   ]
  },
  {
   "cell_type": "code",
   "execution_count": 38,
   "id": "6ae562e1",
   "metadata": {},
   "outputs": [
    {
     "data": {
      "text/plain": [
       "-27.0"
      ]
     },
     "execution_count": 38,
     "metadata": {},
     "output_type": "execute_result"
    }
   ],
   "source": [
    "math.pow(-3,3)"
   ]
  },
  {
   "cell_type": "code",
   "execution_count": 39,
   "id": "e3b72779",
   "metadata": {},
   "outputs": [
    {
     "data": {
      "text/plain": [
       "0.25"
      ]
     },
     "execution_count": 39,
     "metadata": {},
     "output_type": "execute_result"
    }
   ],
   "source": [
    "math.pow(-2,-2)"
   ]
  },
  {
   "cell_type": "markdown",
   "id": "493b66b1",
   "metadata": {},
   "source": [
    "## sqrt()"
   ]
  },
  {
   "cell_type": "code",
   "execution_count": 40,
   "id": "32fa2157",
   "metadata": {},
   "outputs": [
    {
     "data": {
      "text/plain": [
       "4.0"
      ]
     },
     "execution_count": 40,
     "metadata": {},
     "output_type": "execute_result"
    }
   ],
   "source": [
    "math.sqrt(16)"
   ]
  },
  {
   "cell_type": "code",
   "execution_count": 42,
   "id": "c27d2891",
   "metadata": {},
   "outputs": [
    {
     "data": {
      "text/plain": [
       "3.0"
      ]
     },
     "execution_count": 42,
     "metadata": {},
     "output_type": "execute_result"
    }
   ],
   "source": [
    "math.sqrt(9)"
   ]
  },
  {
   "cell_type": "code",
   "execution_count": 43,
   "id": "898ec8f7",
   "metadata": {},
   "outputs": [
    {
     "data": {
      "text/plain": [
       "10.392304845413264"
      ]
     },
     "execution_count": 43,
     "metadata": {},
     "output_type": "execute_result"
    }
   ],
   "source": [
    "math.sqrt(108)"
   ]
  },
  {
   "cell_type": "markdown",
   "id": "0bdb0743",
   "metadata": {},
   "source": [
    "## Trigonometric functions"
   ]
  },
  {
   "cell_type": "code",
   "execution_count": 44,
   "id": "261ce553",
   "metadata": {},
   "outputs": [
    {
     "data": {
      "text/plain": [
       "0.0"
      ]
     },
     "execution_count": 44,
     "metadata": {},
     "output_type": "execute_result"
    }
   ],
   "source": [
    "math.sin(0)"
   ]
  },
  {
   "cell_type": "code",
   "execution_count": 45,
   "id": "7e8cb4fe",
   "metadata": {},
   "outputs": [
    {
     "data": {
      "text/plain": [
       "1.0"
      ]
     },
     "execution_count": 45,
     "metadata": {},
     "output_type": "execute_result"
    }
   ],
   "source": [
    "math.cos(0)"
   ]
  },
  {
   "cell_type": "code",
   "execution_count": 48,
   "id": "6dfbf6b7",
   "metadata": {},
   "outputs": [
    {
     "data": {
      "text/plain": [
       "-0.4480736161291701"
      ]
     },
     "execution_count": 48,
     "metadata": {},
     "output_type": "execute_result"
    }
   ],
   "source": [
    "math.cos(90)"
   ]
  },
  {
   "cell_type": "code",
   "execution_count": 49,
   "id": "94594d5e",
   "metadata": {},
   "outputs": [
    {
     "data": {
      "text/plain": [
       "1.6197751905438615"
      ]
     },
     "execution_count": 49,
     "metadata": {},
     "output_type": "execute_result"
    }
   ],
   "source": [
    "math.tan(45)"
   ]
  },
  {
   "cell_type": "code",
   "execution_count": 50,
   "id": "4648ed11",
   "metadata": {},
   "outputs": [
    {
     "data": {
      "text/plain": [
       "0.0"
      ]
     },
     "execution_count": 50,
     "metadata": {},
     "output_type": "execute_result"
    }
   ],
   "source": [
    "math.tan(0)"
   ]
  },
  {
   "cell_type": "markdown",
   "id": "4973e1e0",
   "metadata": {},
   "source": [
    "## Hypotenuse\n",
    "## hypot()"
   ]
  },
  {
   "cell_type": "code",
   "execution_count": 52,
   "id": "0aa29619",
   "metadata": {},
   "outputs": [
    {
     "data": {
      "text/plain": [
       "4.47213595499958"
      ]
     },
     "execution_count": 52,
     "metadata": {},
     "output_type": "execute_result"
    }
   ],
   "source": [
    "math.hypot(2,4)"
   ]
  },
  {
   "cell_type": "code",
   "execution_count": 53,
   "id": "fcfb770a",
   "metadata": {},
   "outputs": [
    {
     "data": {
      "text/plain": [
       "4.47213595499958"
      ]
     },
     "execution_count": 53,
     "metadata": {},
     "output_type": "execute_result"
    }
   ],
   "source": [
    "math.sqrt(20)"
   ]
  },
  {
   "cell_type": "code",
   "execution_count": 55,
   "id": "f4d35f6d",
   "metadata": {},
   "outputs": [],
   "source": [
    "##Assignment\n",
    "## math.modf()\n",
    "\n",
    "## Program to check prime numbers\n",
    "## Program to check max of 3 numbers"
   ]
  },
  {
   "cell_type": "markdown",
   "id": "0432e882",
   "metadata": {},
   "source": [
    "## modf()"
   ]
  },
  {
   "cell_type": "code",
   "execution_count": 56,
   "id": "29e13213",
   "metadata": {},
   "outputs": [
    {
     "data": {
      "text/plain": [
       "(0.0, 5.0)"
      ]
     },
     "execution_count": 56,
     "metadata": {},
     "output_type": "execute_result"
    }
   ],
   "source": [
    "math.modf(5)"
   ]
  },
  {
   "cell_type": "code",
   "execution_count": 57,
   "id": "3b32e58a",
   "metadata": {},
   "outputs": [
    {
     "data": {
      "text/plain": [
       "(-0.0, -6.0)"
      ]
     },
     "execution_count": 57,
     "metadata": {},
     "output_type": "execute_result"
    }
   ],
   "source": [
    "math.modf(-6)"
   ]
  },
  {
   "cell_type": "code",
   "execution_count": 58,
   "id": "714d14a3",
   "metadata": {},
   "outputs": [
    {
     "name": "stdout",
     "output_type": "stream",
     "text": [
      "0.05999999999999993\n"
     ]
    }
   ],
   "source": [
    "a = math.modf(11.2) \n",
    "b = math.modf(12.3)\n",
    "\n",
    "# Multiply the fractional part as is stored  \n",
    "# in 0th index of both the tuple\n",
    "print(a[0]*b[0])"
   ]
  },
  {
   "cell_type": "code",
   "execution_count": 60,
   "id": "96faf9a1",
   "metadata": {},
   "outputs": [
    {
     "name": "stdout",
     "output_type": "stream",
     "text": [
      "modf() on First list element :  (0.1200000000000001, 3.0)\n",
      "modf() on third list element :  (0.25, 13.0)\n",
      "modf() on Second tuple element :  (-0.25, -15.0)\n",
      "modf() on Fourth tuple element :  (-0.1999999999999993, -31.0)\n"
     ]
    }
   ],
   "source": [
    "from math import modf\n",
    "\n",
    "lst = [3.12, -5.14, 13.25, -5.21]\n",
    "tpl = (33.12, -15.25, 3.15, -31.2)\n",
    "  \n",
    "  \n",
    "## modf() function on elements of list\n",
    "print(\"modf() on First list element : \", modf(lst[0]))\n",
    "print(\"modf() on third list element : \", modf(lst[2]))\n",
    "  \n",
    "## modf() function on elements of tuple\n",
    "print(\"modf() on Second tuple element : \", modf(tpl[1]))\n",
    "print(\"modf() on Fourth tuple element : \", modf(tpl[3]))"
   ]
  },
  {
   "cell_type": "code",
   "execution_count": 11,
   "id": "b559e6ab",
   "metadata": {},
   "outputs": [
    {
     "name": "stdout",
     "output_type": "stream",
     "text": [
      "Enter a number: 997\n",
      "997 is a prime number\n"
     ]
    }
   ],
   "source": [
    "## Program to check whether a number is prime or not\n",
    "\n",
    "# Program to check if a number is prime or not\n",
    "# Input from the user\n",
    "num = int(input(\"Enter a number: \"))\n",
    "\n",
    "# If number is greater than 1\n",
    "if num > 1:\n",
    "    \n",
    "   # Check if factor exist  \n",
    "    for i in range(2,num):\n",
    "        \n",
    "        \n",
    "        \n",
    "        if (num % i) == 0:\n",
    "            print(num,\"is not a prime number\")\n",
    "            break\n",
    "    else:\n",
    "        \n",
    "        print(num,\"is a prime number\")\n",
    "       \n",
    "# Else if the input number is less than or equal to 1\n",
    " \n",
    "else:\n",
    "    print(num,\"is not a prime number\")"
   ]
  },
  {
   "cell_type": "code",
   "execution_count": 12,
   "id": "5d6d2ada",
   "metadata": {},
   "outputs": [
    {
     "name": "stdout",
     "output_type": "stream",
     "text": [
      "Enter first number  : 12\n",
      "Enter second number : 56\n",
      "Enter third number  : 990\n",
      "990 is the largest of three numbers.\n"
     ]
    }
   ],
   "source": [
    "## Program to check max of 3 numbers\n",
    "\n",
    "\n",
    "a = int(input('Enter first number  : '))\n",
    "b = int(input('Enter second number : '))\n",
    "c = int(input('Enter third number  : '))\n",
    "\n",
    "largest = 0\n",
    "\n",
    "if a > b and a > c :\n",
    "    largest = a\n",
    "elif b > c :\n",
    "    largest = b\n",
    "else :\n",
    "    largest = c\n",
    "\n",
    "print(largest, \"is the largest of three numbers.\")"
   ]
  },
  {
   "cell_type": "code",
   "execution_count": null,
   "id": "2fdf07e6",
   "metadata": {},
   "outputs": [],
   "source": []
  }
 ],
 "metadata": {
  "kernelspec": {
   "display_name": "Python 3",
   "language": "python",
   "name": "python3"
  },
  "language_info": {
   "codemirror_mode": {
    "name": "ipython",
    "version": 3
   },
   "file_extension": ".py",
   "mimetype": "text/x-python",
   "name": "python",
   "nbconvert_exporter": "python",
   "pygments_lexer": "ipython3",
   "version": "3.8.8"
  }
 },
 "nbformat": 4,
 "nbformat_minor": 5
}
