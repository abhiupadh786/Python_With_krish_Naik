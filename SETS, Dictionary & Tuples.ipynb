{
 "cells": [
  {
   "cell_type": "markdown",
   "id": "8564c6bf",
   "metadata": {},
   "source": [
    "## SETS\n",
    "A Set is an unordered collection data type that is iterable, mutable, and has no duplicate elements. Python's set class represents the mathematical notion of a set.This is based on a data structure known as a hash table"
   ]
  },
  {
   "cell_type": "code",
   "execution_count": 2,
   "id": "e6321f96",
   "metadata": {},
   "outputs": [
    {
     "name": "stdout",
     "output_type": "stream",
     "text": [
      "set()\n",
      "<class 'set'>\n"
     ]
    }
   ],
   "source": [
    "## Defining an empty set\n",
    "set_var = set()\n",
    "print(set_var)\n",
    "print(type(set_var))"
   ]
  },
  {
   "cell_type": "code",
   "execution_count": 3,
   "id": "dbf14f48",
   "metadata": {},
   "outputs": [],
   "source": [
    "set_var = {1,2,3,4,3}"
   ]
  },
  {
   "cell_type": "code",
   "execution_count": 5,
   "id": "ac1170e1",
   "metadata": {},
   "outputs": [
    {
     "data": {
      "text/plain": [
       "{1, 2, 3, 4}"
      ]
     },
     "execution_count": 5,
     "metadata": {},
     "output_type": "execute_result"
    }
   ],
   "source": [
    "set_var #Duplicating not allowed"
   ]
  },
  {
   "cell_type": "code",
   "execution_count": 6,
   "id": "b90134c8",
   "metadata": {},
   "outputs": [
    {
     "name": "stdout",
     "output_type": "stream",
     "text": [
      "{'Ironman', 'Avengers', 'Hitman'}\n"
     ]
    },
    {
     "data": {
      "text/plain": [
       "set"
      ]
     },
     "execution_count": 6,
     "metadata": {},
     "output_type": "execute_result"
    }
   ],
   "source": [
    "set_var = {\"Ironman\",\"Avengers\",\"Hitman\"}\n",
    "print(set_var)\n",
    "type(set_var)"
   ]
  },
  {
   "cell_type": "code",
   "execution_count": 7,
   "id": "3a8bbfb3",
   "metadata": {},
   "outputs": [
    {
     "name": "stdout",
     "output_type": "stream",
     "text": [
      "{'Hulk', 'Ironman', 'Avengers', 'Hitman'}\n"
     ]
    }
   ],
   "source": [
    "#Inbuilt function in set\n",
    "set_var.add(\"Hulk\")\n",
    "print(set_var)"
   ]
  },
  {
   "cell_type": "code",
   "execution_count": 21,
   "id": "aa568a5d",
   "metadata": {},
   "outputs": [],
   "source": [
    "set1={\"Avengers\",\"IronMan\",'Hitman'}\n",
    "set2={\"Avengers\",\"IronMan\",'Hitman','Hulk2'}"
   ]
  },
  {
   "cell_type": "code",
   "execution_count": 14,
   "id": "53310490",
   "metadata": {},
   "outputs": [],
   "source": [
    "set2.intersection_update(set1)"
   ]
  },
  {
   "cell_type": "code",
   "execution_count": 15,
   "id": "a4e854b4",
   "metadata": {},
   "outputs": [
    {
     "data": {
      "text/plain": [
       "{'Avengers', 'Hitman', 'IronMan'}"
      ]
     },
     "execution_count": 15,
     "metadata": {},
     "output_type": "execute_result"
    }
   ],
   "source": [
    "set2"
   ]
  },
  {
   "cell_type": "code",
   "execution_count": 22,
   "id": "16d286a9",
   "metadata": {},
   "outputs": [
    {
     "data": {
      "text/plain": [
       "{'Hulk2'}"
      ]
     },
     "execution_count": 22,
     "metadata": {},
     "output_type": "execute_result"
    }
   ],
   "source": [
    "##Difference \n",
    "set2.difference(set1)"
   ]
  },
  {
   "cell_type": "code",
   "execution_count": 23,
   "id": "0a091678",
   "metadata": {},
   "outputs": [
    {
     "data": {
      "text/plain": [
       "{'Avengers', 'Hitman', 'Hulk2', 'IronMan'}"
      ]
     },
     "execution_count": 23,
     "metadata": {},
     "output_type": "execute_result"
    }
   ],
   "source": [
    "set2"
   ]
  },
  {
   "cell_type": "code",
   "execution_count": 24,
   "id": "044dcccc",
   "metadata": {},
   "outputs": [],
   "source": [
    "## Difference update\n",
    "\n",
    "set2.difference_update(set1)"
   ]
  },
  {
   "cell_type": "code",
   "execution_count": 25,
   "id": "57c6b54c",
   "metadata": {},
   "outputs": [
    {
     "name": "stdout",
     "output_type": "stream",
     "text": [
      "{'Hulk2'}\n"
     ]
    }
   ],
   "source": [
    "print(set2)"
   ]
  },
  {
   "cell_type": "markdown",
   "id": "6dbf0825",
   "metadata": {},
   "source": [
    "## Dictionaries\n",
    "A dictionary is a collection which is unordered, changeable and indexed. In Python dictionaries are written with curly brackets, and they have keys and values."
   ]
  },
  {
   "cell_type": "code",
   "execution_count": 26,
   "id": "c61e4b3c",
   "metadata": {},
   "outputs": [],
   "source": [
    "dic = {}"
   ]
  },
  {
   "cell_type": "code",
   "execution_count": 27,
   "id": "2902224e",
   "metadata": {},
   "outputs": [
    {
     "data": {
      "text/plain": [
       "dict"
      ]
     },
     "execution_count": 27,
     "metadata": {},
     "output_type": "execute_result"
    }
   ],
   "source": [
    "type(dic)"
   ]
  },
  {
   "cell_type": "code",
   "execution_count": 28,
   "id": "d4e67b96",
   "metadata": {},
   "outputs": [],
   "source": [
    "dic = {1,2,3,4.5,5,6}"
   ]
  },
  {
   "cell_type": "code",
   "execution_count": 29,
   "id": "bded735e",
   "metadata": {},
   "outputs": [
    {
     "data": {
      "text/plain": [
       "set"
      ]
     },
     "execution_count": 29,
     "metadata": {},
     "output_type": "execute_result"
    }
   ],
   "source": [
    "type(dic)"
   ]
  },
  {
   "cell_type": "code",
   "execution_count": 35,
   "id": "522e82b2",
   "metadata": {},
   "outputs": [],
   "source": [
    "# Let's create a dictionary\n",
    "My_dict = {\"car1\":\"Audi\", \"car2\":\"McLaren\",\"car3\":\"Mercedes Benz\"}"
   ]
  },
  {
   "cell_type": "code",
   "execution_count": 36,
   "id": "cdefdc7e",
   "metadata": {},
   "outputs": [
    {
     "name": "stdout",
     "output_type": "stream",
     "text": [
      "{'car1': 'Audi', 'car2': 'McLaren', 'car3': 'Mercedes Benz'}\n",
      "<class 'dict'>\n"
     ]
    }
   ],
   "source": [
    "print(My_dict)\n",
    "print(type(My_dict))"
   ]
  },
  {
   "cell_type": "code",
   "execution_count": 37,
   "id": "9aa00a95",
   "metadata": {},
   "outputs": [
    {
     "data": {
      "text/plain": [
       "'Audi'"
      ]
     },
     "execution_count": 37,
     "metadata": {},
     "output_type": "execute_result"
    }
   ],
   "source": [
    "# Access the item values based on keys\n",
    "My_dict[\"car1\"]"
   ]
  },
  {
   "cell_type": "code",
   "execution_count": 38,
   "id": "af3d6301",
   "metadata": {},
   "outputs": [
    {
     "data": {
      "text/plain": [
       "'Mercedes Benz'"
      ]
     },
     "execution_count": 38,
     "metadata": {},
     "output_type": "execute_result"
    }
   ],
   "source": [
    "My_dict['car3']"
   ]
  },
  {
   "cell_type": "code",
   "execution_count": 42,
   "id": "e38e4db4",
   "metadata": {},
   "outputs": [
    {
     "name": "stdout",
     "output_type": "stream",
     "text": [
      "car1\n",
      "car2\n",
      "car3\n"
     ]
    }
   ],
   "source": [
    "# We can loop through the dictionaries keys\n",
    "\n",
    "for x in My_dict:\n",
    "    print(x)"
   ]
  },
  {
   "cell_type": "code",
   "execution_count": 43,
   "id": "19197bd6",
   "metadata": {},
   "outputs": [
    {
     "name": "stdout",
     "output_type": "stream",
     "text": [
      "('car1', 'Audi')\n",
      "('car2', 'McLaren')\n",
      "('car3', 'Mercedes Benz')\n"
     ]
    }
   ],
   "source": [
    "# We can also check both keys and values\n",
    "for x in My_dict.items():\n",
    "    print(x)"
   ]
  },
  {
   "cell_type": "code",
   "execution_count": 44,
   "id": "1916bde5",
   "metadata": {},
   "outputs": [
    {
     "name": "stdout",
     "output_type": "stream",
     "text": [
      "Audi\n",
      "McLaren\n",
      "Mercedes Benz\n"
     ]
    }
   ],
   "source": [
    "# We can even loop through the values\n",
    "for x in My_dict.values():\n",
    "    print(x)"
   ]
  },
  {
   "cell_type": "code",
   "execution_count": 46,
   "id": "aec59a66",
   "metadata": {},
   "outputs": [
    {
     "name": "stdout",
     "output_type": "stream",
     "text": [
      "car1\n",
      "car2\n",
      "car3\n"
     ]
    }
   ],
   "source": [
    "# we can loop through the dictionaries keys\n",
    "for x in My_dict:\n",
    "    print(x)"
   ]
  },
  {
   "cell_type": "code",
   "execution_count": 47,
   "id": "0f1741ce",
   "metadata": {},
   "outputs": [],
   "source": [
    "# Adding items in dictionaries\n",
    "My_dict['car4'] = 'BMW'"
   ]
  },
  {
   "cell_type": "code",
   "execution_count": 48,
   "id": "94ed1382",
   "metadata": {},
   "outputs": [
    {
     "data": {
      "text/plain": [
       "{'car1': 'Audi', 'car2': 'McLaren', 'car3': 'Mercedes Benz', 'car4': 'BMW'}"
      ]
     },
     "execution_count": 48,
     "metadata": {},
     "output_type": "execute_result"
    }
   ],
   "source": [
    "My_dict"
   ]
  },
  {
   "cell_type": "markdown",
   "id": "a8c87ce7",
   "metadata": {},
   "source": [
    "## Nested Dictionary"
   ]
  },
  {
   "cell_type": "code",
   "execution_count": 49,
   "id": "8653ae42",
   "metadata": {},
   "outputs": [],
   "source": [
    "car1_model = {'Mercedes':1960}\n",
    "car2_model = {'McLaren':1970}\n",
    "car3_model = {'Audi':1980}\n",
    "car4_model = {'BMW':1990}\n",
    "\n",
    "car_type = {'car1':car1_model,'car2':car2_model,'car3':car3_model,'car4':car4_model}"
   ]
  },
  {
   "cell_type": "code",
   "execution_count": 50,
   "id": "4cd182f8",
   "metadata": {},
   "outputs": [
    {
     "name": "stdout",
     "output_type": "stream",
     "text": [
      "{'car1': {'Mercedes': 1960}, 'car2': {'McLaren': 1970}, 'car3': {'Audi': 1980}, 'car4': {'BMW': 1990}}\n"
     ]
    }
   ],
   "source": [
    "print(car_type)"
   ]
  },
  {
   "cell_type": "code",
   "execution_count": 51,
   "id": "fbbf7dea",
   "metadata": {},
   "outputs": [
    {
     "name": "stdout",
     "output_type": "stream",
     "text": [
      "{'Mercedes': 1960}\n"
     ]
    }
   ],
   "source": [
    "# Accessing the elements of dictionary\n",
    "print(car_type['car1'])"
   ]
  },
  {
   "cell_type": "code",
   "execution_count": 52,
   "id": "fdbe26f3",
   "metadata": {},
   "outputs": [
    {
     "name": "stdout",
     "output_type": "stream",
     "text": [
      "1960\n"
     ]
    }
   ],
   "source": [
    "print(car_type['car1']['Mercedes'])"
   ]
  },
  {
   "cell_type": "markdown",
   "id": "8e5e43fc",
   "metadata": {},
   "source": [
    "## Tuples"
   ]
  },
  {
   "cell_type": "code",
   "execution_count": 53,
   "id": "7bcc52e3",
   "metadata": {},
   "outputs": [],
   "source": [
    "## Create an empty tuple\n",
    "tup = ()"
   ]
  },
  {
   "cell_type": "code",
   "execution_count": 54,
   "id": "773c9dc9",
   "metadata": {},
   "outputs": [
    {
     "name": "stdout",
     "output_type": "stream",
     "text": [
      "()\n",
      "<class 'tuple'>\n"
     ]
    }
   ],
   "source": [
    "print(tup)\n",
    "print(type(tup))"
   ]
  },
  {
   "cell_type": "code",
   "execution_count": 55,
   "id": "20b772f1",
   "metadata": {},
   "outputs": [],
   "source": [
    "my_tuple = tuple()"
   ]
  },
  {
   "cell_type": "code",
   "execution_count": 56,
   "id": "a7110053",
   "metadata": {},
   "outputs": [
    {
     "data": {
      "text/plain": [
       "tuple"
      ]
     },
     "execution_count": 56,
     "metadata": {},
     "output_type": "execute_result"
    }
   ],
   "source": [
    "type(my_tuple)"
   ]
  },
  {
   "cell_type": "code",
   "execution_count": 57,
   "id": "d690f05c",
   "metadata": {},
   "outputs": [],
   "source": [
    "my_tuple = (\"Sohail\",\"Aquib\",\"Giri\",\"Sahil\",\"Neeraj\")"
   ]
  },
  {
   "cell_type": "code",
   "execution_count": 58,
   "id": "5a24dd88",
   "metadata": {},
   "outputs": [
    {
     "data": {
      "text/plain": [
       "('Sohail', 'Aquib', 'Giri', 'Sahil', 'Neeraj')"
      ]
     },
     "execution_count": 58,
     "metadata": {},
     "output_type": "execute_result"
    }
   ],
   "source": [
    "my_tuple"
   ]
  },
  {
   "cell_type": "code",
   "execution_count": 59,
   "id": "8cf37749",
   "metadata": {},
   "outputs": [
    {
     "data": {
      "text/plain": [
       "'Sohail'"
      ]
     },
     "execution_count": 59,
     "metadata": {},
     "output_type": "execute_result"
    }
   ],
   "source": [
    "my_tuple[0]"
   ]
  },
  {
   "cell_type": "code",
   "execution_count": 60,
   "id": "c678cbf4",
   "metadata": {},
   "outputs": [
    {
     "name": "stdout",
     "output_type": "stream",
     "text": [
      "('Sohail', 'Aquib', 'Giri', 'Sahil', 'Neeraj')\n",
      "<class 'tuple'>\n"
     ]
    }
   ],
   "source": [
    "print(my_tuple)\n",
    "print(type(my_tuple))"
   ]
  },
  {
   "cell_type": "code",
   "execution_count": 61,
   "id": "67f18696",
   "metadata": {},
   "outputs": [
    {
     "data": {
      "text/plain": [
       "1"
      ]
     },
     "execution_count": 61,
     "metadata": {},
     "output_type": "execute_result"
    }
   ],
   "source": [
    "#Inbuilt Function in tuple\n",
    "my_tuple.count(\"Sohail\")"
   ]
  },
  {
   "cell_type": "code",
   "execution_count": 62,
   "id": "1953b0b3",
   "metadata": {},
   "outputs": [
    {
     "data": {
      "text/plain": [
       "2"
      ]
     },
     "execution_count": 62,
     "metadata": {},
     "output_type": "execute_result"
    }
   ],
   "source": [
    "my_tuple.index('Giri')"
   ]
  },
  {
   "cell_type": "code",
   "execution_count": null,
   "id": "6251d131",
   "metadata": {},
   "outputs": [],
   "source": []
  }
 ],
 "metadata": {
  "kernelspec": {
   "display_name": "Python 3",
   "language": "python",
   "name": "python3"
  },
  "language_info": {
   "codemirror_mode": {
    "name": "ipython",
    "version": 3
   },
   "file_extension": ".py",
   "mimetype": "text/x-python",
   "name": "python",
   "nbconvert_exporter": "python",
   "pygments_lexer": "ipython3",
   "version": "3.8.8"
  }
 },
 "nbformat": 4,
 "nbformat_minor": 5
}
