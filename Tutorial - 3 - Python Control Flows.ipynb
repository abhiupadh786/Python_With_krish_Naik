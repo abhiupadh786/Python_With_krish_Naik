{
 "cells": [
  {
   "cell_type": "code",
   "execution_count": 2,
   "id": "69de5c24",
   "metadata": {},
   "outputs": [
    {
     "name": "stdout",
     "output_type": "stream",
     "text": [
      "Enter the number102.5\n",
      "the number is greater than 100\n"
     ]
    }
   ],
   "source": [
    "# If Statement\n",
    "\n",
    "val=input(\"Enter the number\")\n",
    "val_float=float(val)\n",
    "if(val_float>100):\n",
    "    print(\"the number is greater than 100\")"
   ]
  },
  {
   "cell_type": "code",
   "execution_count": 4,
   "id": "d88f9dd3",
   "metadata": {},
   "outputs": [
    {
     "name": "stdout",
     "output_type": "stream",
     "text": [
      "Enter the number4\n",
      "the number is even\n"
     ]
    }
   ],
   "source": [
    "val=input(\"Enter the number\")\n",
    "val_float=float(val)\n",
    "if(val_float%2==0):\n",
    "    print(\"the number is even\")"
   ]
  },
  {
   "cell_type": "code",
   "execution_count": 5,
   "id": "ef3edf55",
   "metadata": {},
   "outputs": [
    {
     "data": {
      "text/plain": [
       "True"
      ]
     },
     "execution_count": 5,
     "metadata": {},
     "output_type": "execute_result"
    }
   ],
   "source": [
    "100%2==0"
   ]
  },
  {
   "cell_type": "code",
   "execution_count": 6,
   "id": "41fd16b0",
   "metadata": {},
   "outputs": [
    {
     "data": {
      "text/plain": [
       "False"
      ]
     },
     "execution_count": 6,
     "metadata": {},
     "output_type": "execute_result"
    }
   ],
   "source": [
    "100%2!=0"
   ]
  },
  {
   "cell_type": "code",
   "execution_count": 7,
   "id": "a8aa00bd",
   "metadata": {},
   "outputs": [
    {
     "name": "stdout",
     "output_type": "stream",
     "text": [
      "Enter the number7\n",
      "the number is odd\n"
     ]
    }
   ],
   "source": [
    "#If - else Statement\n",
    "val=input(\"Enter the number\")\n",
    "val_float=float(val)\n",
    "if(val_float%2==0):\n",
    "    print(\"the number is even\")\n",
    "else:\n",
    "    print(\"the number is odd\")"
   ]
  },
  {
   "cell_type": "code",
   "execution_count": 9,
   "id": "a12a5fd0",
   "metadata": {},
   "outputs": [
    {
     "name": "stdout",
     "output_type": "stream",
     "text": [
      "Enter the age10\n",
      "Minor Age\n"
     ]
    }
   ],
   "source": [
    "#Age Form \n",
    "\n",
    "age = float(input(\"Enter the age\"))\n",
    "\n",
    "if(age < 18):\n",
    "    print(\"Minor Age\")\n",
    "else:\n",
    "    print(\"You are not minor\")\n",
    "    "
   ]
  },
  {
   "cell_type": "code",
   "execution_count": 13,
   "id": "0b5efed0",
   "metadata": {},
   "outputs": [
    {
     "name": "stdout",
     "output_type": "stream",
     "text": [
      "Enter the age49\n",
      "Senior Mid Age\n"
     ]
    }
   ],
   "source": [
    "#Age Form \n",
    "#Nested If-Else(elif)\n",
    "\n",
    "age = float(input(\"Enter the age\"))\n",
    "\n",
    "if(age < 18):\n",
    "    print(\"Minor Age\")\n",
    "elif(age>=18 and age<=45):\n",
    "    print(\"Mid Age\")\n",
    "elif(age>45 and age<=50):\n",
    "    print(\"Senior Mid Age\")\n",
    "else: \n",
    "    print(\"Senior Citizen\")\n",
    "    "
   ]
  },
  {
   "cell_type": "code",
   "execution_count": 14,
   "id": "8052477c",
   "metadata": {},
   "outputs": [
    {
     "name": "stdout",
     "output_type": "stream",
     "text": [
      "Enter the age12\n",
      "Minor Age\n",
      "You are in School\n"
     ]
    }
   ],
   "source": [
    "# nested iflese\n",
    "\n",
    "\n",
    "age=float(input(\"Enter the age\"))\n",
    "\n",
    "if(age<18):\n",
    "    print(\"Minor Age\")\n",
    "    if(age<15):\n",
    "        print(\"You are in School\")\n",
    "    else:\n",
    "        print(\"You are in College\")\n",
    "elif(age>=18 and age<=45):\n",
    "    print(\"Mid Age\")\n",
    "elif(age>45 and age<=50):\n",
    "    print(\"Senior Mid Age\")\n",
    "else: \n",
    "    print(\"Senior Citizen\")\n"
   ]
  },
  {
   "cell_type": "code",
   "execution_count": 15,
   "id": "4dbe4a88",
   "metadata": {},
   "outputs": [
    {
     "name": "stdout",
     "output_type": "stream",
     "text": [
      "1\n",
      "4\n",
      "9\n",
      "16\n",
      "25\n",
      "36\n",
      "49\n"
     ]
    }
   ],
   "source": [
    "## Loops statement\n",
    "## for loop, while loop\n",
    "lst=[1,2,3,4,5,6,7]\n",
    "for i in lst:\n",
    "    print(i**2)"
   ]
  },
  {
   "cell_type": "code",
   "execution_count": 10,
   "id": "c045fe2a",
   "metadata": {},
   "outputs": [
    {
     "name": "stdout",
     "output_type": "stream",
     "text": [
      "28\n"
     ]
    }
   ],
   "source": [
    "## fIND the sum of all the elements in list\n",
    "lst=[1,2,3,4,5,6,7]\n",
    "sum1 = 0\n",
    "for i in lst:\n",
    "    sum1 = sum1 + i\n",
    "print(sum1)\n",
    "    "
   ]
  },
  {
   "cell_type": "code",
   "execution_count": 11,
   "id": "fdac6006",
   "metadata": {},
   "outputs": [
    {
     "name": "stdout",
     "output_type": "stream",
     "text": [
      "Even sum is 12\n",
      "Odd sum is 16\n"
     ]
    }
   ],
   "source": [
    "##find the sum of even and odd number\n",
    "lst = [1,2,3,4,5,6,7]\n",
    "even_sum = 0\n",
    "odd_sum = 0\n",
    "\n",
    "for i in lst:\n",
    "    if (i%2==0):\n",
    "        even_sum = even_sum + i\n",
    "    else:\n",
    "        odd_sum = odd_sum + i\n",
    "\n",
    "print(\"Even sum is {}\".format(even_sum))\n",
    "print(\"Odd sum is {}\".format(odd_sum))\n"
   ]
  },
  {
   "cell_type": "code",
   "execution_count": 13,
   "id": "07b8575b",
   "metadata": {},
   "outputs": [
    {
     "name": "stdout",
     "output_type": "stream",
     "text": [
      "30 25\n"
     ]
    }
   ],
   "source": [
    "## while condition\n",
    "i = 0\n",
    "even_sum = 0\n",
    "odd_sum = 0\n",
    "while(i <=10):\n",
    "    if (i%2==0):\n",
    "        even_sum = even_sum + i\n",
    "    else:\n",
    "        odd_sum = odd_sum + i\n",
    "    \n",
    "    i = i + 1\n",
    "print(even_sum,odd_sum)"
   ]
  },
  {
   "cell_type": "code",
   "execution_count": 15,
   "id": "e76b67dc",
   "metadata": {},
   "outputs": [
    {
     "name": "stdout",
     "output_type": "stream",
     "text": [
      "1\n",
      "2\n",
      "3\n",
      "4\n"
     ]
    }
   ],
   "source": [
    "##break \n",
    "\n",
    "x =1\n",
    "while(x<7):\n",
    "    print(x)\n",
    "    if x == 4:\n",
    "        break\n",
    "    x = x+1"
   ]
  },
  {
   "cell_type": "code",
   "execution_count": 17,
   "id": "f8039a92",
   "metadata": {},
   "outputs": [
    {
     "name": "stdout",
     "output_type": "stream",
     "text": [
      "4\n",
      "4\n",
      "4\n"
     ]
    }
   ],
   "source": [
    "x =1\n",
    "while(x<7):\n",
    "   \n",
    "    if x == 4:\n",
    "        break\n",
    "    print(4)\n",
    "    x = x+1"
   ]
  },
  {
   "cell_type": "code",
   "execution_count": 18,
   "id": "0d34129d",
   "metadata": {},
   "outputs": [
    {
     "name": "stdout",
     "output_type": "stream",
     "text": [
      "1\n",
      "2\n",
      "3\n",
      "5\n",
      "6\n",
      "7\n"
     ]
    }
   ],
   "source": [
    "## Continue\n",
    "x =0\n",
    "while x<7:\n",
    "    x=x+1\n",
    "    if x == 4:\n",
    "        continue\n",
    "    print(x)"
   ]
  },
  {
   "cell_type": "code",
   "execution_count": null,
   "id": "1a5e15ed",
   "metadata": {},
   "outputs": [],
   "source": []
  }
 ],
 "metadata": {
  "kernelspec": {
   "display_name": "Python 3",
   "language": "python",
   "name": "python3"
  },
  "language_info": {
   "codemirror_mode": {
    "name": "ipython",
    "version": 3
   },
   "file_extension": ".py",
   "mimetype": "text/x-python",
   "name": "python",
   "nbconvert_exporter": "python",
   "pygments_lexer": "ipython3",
   "version": "3.8.8"
  }
 },
 "nbformat": 4,
 "nbformat_minor": 5
}
