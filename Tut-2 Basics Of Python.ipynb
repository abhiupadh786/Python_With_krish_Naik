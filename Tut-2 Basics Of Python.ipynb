{
 "cells": [
  {
   "cell_type": "code",
   "execution_count": 1,
   "id": "592b853b",
   "metadata": {},
   "outputs": [
    {
     "name": "stdout",
     "output_type": "stream",
     "text": [
      "Hello world\n",
      "Welcome To Python\n"
     ]
    }
   ],
   "source": [
    "print(\"Hello world\")\n",
    "print(\"Welcome To Python\")"
   ]
  },
  {
   "cell_type": "code",
   "execution_count": 2,
   "id": "f6a9f321",
   "metadata": {},
   "outputs": [
    {
     "name": "stdout",
     "output_type": "stream",
     "text": [
      "Hello\n"
     ]
    }
   ],
   "source": [
    "# Single Line and multiline comments\n",
    "'''\n",
    "Welcome to my youtube\n",
    "channel\n",
    "\n",
    "'''\n",
    "print(\"Hello\")"
   ]
  },
  {
   "cell_type": "code",
   "execution_count": 3,
   "id": "43c62df5",
   "metadata": {},
   "outputs": [
    {
     "data": {
      "text/plain": [
       "int"
      ]
     },
     "execution_count": 3,
     "metadata": {},
     "output_type": "execute_result"
    }
   ],
   "source": [
    "# Variable declaration\n",
    "a=10\n",
    "type(a)"
   ]
  },
  {
   "cell_type": "code",
   "execution_count": 4,
   "id": "fc8f98bb",
   "metadata": {},
   "outputs": [
    {
     "name": "stdout",
     "output_type": "stream",
     "text": [
      "The Zen of Python, by Tim Peters\n",
      "\n",
      "Beautiful is better than ugly.\n",
      "Explicit is better than implicit.\n",
      "Simple is better than complex.\n",
      "Complex is better than complicated.\n",
      "Flat is better than nested.\n",
      "Sparse is better than dense.\n",
      "Readability counts.\n",
      "Special cases aren't special enough to break the rules.\n",
      "Although practicality beats purity.\n",
      "Errors should never pass silently.\n",
      "Unless explicitly silenced.\n",
      "In the face of ambiguity, refuse the temptation to guess.\n",
      "There should be one-- and preferably only one --obvious way to do it.\n",
      "Although that way may not be obvious at first unless you're Dutch.\n",
      "Now is better than never.\n",
      "Although never is often better than *right* now.\n",
      "If the implementation is hard to explain, it's a bad idea.\n",
      "If the implementation is easy to explain, it may be a good idea.\n",
      "Namespaces are one honking great idea -- let's do more of those!\n"
     ]
    }
   ],
   "source": [
    "import this"
   ]
  },
  {
   "cell_type": "code",
   "execution_count": 5,
   "id": "831c8624",
   "metadata": {},
   "outputs": [
    {
     "name": "stdout",
     "output_type": "stream",
     "text": [
      "10\n"
     ]
    }
   ],
   "source": [
    "print(a)"
   ]
  },
  {
   "cell_type": "code",
   "execution_count": 12,
   "id": "8a3a7c87",
   "metadata": {},
   "outputs": [],
   "source": [
    "tenth=10\n",
    "b=40\n",
    "c=\"abhishek\""
   ]
  },
  {
   "cell_type": "code",
   "execution_count": 13,
   "id": "6c0b31ff",
   "metadata": {},
   "outputs": [
    {
     "data": {
      "text/plain": [
       "str"
      ]
     },
     "execution_count": 13,
     "metadata": {},
     "output_type": "execute_result"
    }
   ],
   "source": [
    "type(c)"
   ]
  },
  {
   "cell_type": "code",
   "execution_count": 8,
   "id": "b6ca33ff",
   "metadata": {},
   "outputs": [],
   "source": [
    "a1=10"
   ]
  },
  {
   "cell_type": "code",
   "execution_count": 11,
   "id": "6a0389f1",
   "metadata": {},
   "outputs": [
    {
     "name": "stdout",
     "output_type": "stream",
     "text": [
      "Abhishek\n"
     ]
    }
   ],
   "source": [
    "first_name=\"Abhishek\"\n",
    "print(first_name)"
   ]
  },
  {
   "cell_type": "code",
   "execution_count": 10,
   "id": "73763c2a",
   "metadata": {},
   "outputs": [
    {
     "data": {
      "text/plain": [
       "int"
      ]
     },
     "execution_count": 10,
     "metadata": {},
     "output_type": "execute_result"
    }
   ],
   "source": [
    "##integers\n",
    "a=10\n",
    "type(a)"
   ]
  },
  {
   "cell_type": "code",
   "execution_count": 14,
   "id": "a2873734",
   "metadata": {},
   "outputs": [
    {
     "data": {
      "text/plain": [
       "20"
      ]
     },
     "execution_count": 14,
     "metadata": {},
     "output_type": "execute_result"
    }
   ],
   "source": [
    "a+10"
   ]
  },
  {
   "cell_type": "code",
   "execution_count": 15,
   "id": "919c9384",
   "metadata": {},
   "outputs": [
    {
     "data": {
      "text/plain": [
       "200"
      ]
     },
     "execution_count": 15,
     "metadata": {},
     "output_type": "execute_result"
    }
   ],
   "source": [
    "a*20"
   ]
  },
  {
   "cell_type": "code",
   "execution_count": 16,
   "id": "18b75044",
   "metadata": {},
   "outputs": [
    {
     "data": {
      "text/plain": [
       "1.0"
      ]
     },
     "execution_count": 16,
     "metadata": {},
     "output_type": "execute_result"
    }
   ],
   "source": [
    "a/10"
   ]
  },
  {
   "cell_type": "code",
   "execution_count": 17,
   "id": "95ecb39f",
   "metadata": {},
   "outputs": [
    {
     "data": {
      "text/plain": [
       "1"
      ]
     },
     "execution_count": 17,
     "metadata": {},
     "output_type": "execute_result"
    }
   ],
   "source": [
    "a//10"
   ]
  },
  {
   "cell_type": "code",
   "execution_count": 18,
   "id": "6ab4f225",
   "metadata": {},
   "outputs": [
    {
     "data": {
      "text/plain": [
       "0"
      ]
     },
     "execution_count": 18,
     "metadata": {},
     "output_type": "execute_result"
    }
   ],
   "source": [
    "a%10"
   ]
  },
  {
   "cell_type": "code",
   "execution_count": 19,
   "id": "afbb917f",
   "metadata": {},
   "outputs": [
    {
     "name": "stdout",
     "output_type": "stream",
     "text": [
      "<class 'int'>\n"
     ]
    }
   ],
   "source": [
    "print(type(a))"
   ]
  },
  {
   "cell_type": "code",
   "execution_count": 20,
   "id": "f6f50fca",
   "metadata": {},
   "outputs": [
    {
     "name": "stdout",
     "output_type": "stream",
     "text": [
      "30\n"
     ]
    }
   ],
   "source": [
    "a=10\n",
    "b=20\n",
    "print(a+b)"
   ]
  },
  {
   "cell_type": "code",
   "execution_count": 21,
   "id": "a14c7c66",
   "metadata": {},
   "outputs": [
    {
     "data": {
      "text/plain": [
       "190.5"
      ]
     },
     "execution_count": 21,
     "metadata": {},
     "output_type": "execute_result"
    }
   ],
   "source": [
    "#floating\n",
    "a=190.5\n",
    "a"
   ]
  },
  {
   "cell_type": "code",
   "execution_count": 1,
   "id": "7a4c6438",
   "metadata": {},
   "outputs": [],
   "source": [
    "#Boolean\n",
    "a1 = True\n",
    "b1 = False"
   ]
  },
  {
   "cell_type": "code",
   "execution_count": 2,
   "id": "7b237946",
   "metadata": {},
   "outputs": [
    {
     "data": {
      "text/plain": [
       "bool"
      ]
     },
     "execution_count": 2,
     "metadata": {},
     "output_type": "execute_result"
    }
   ],
   "source": [
    "type(a1)"
   ]
  },
  {
   "cell_type": "code",
   "execution_count": 3,
   "id": "b95a4a10",
   "metadata": {},
   "outputs": [
    {
     "data": {
      "text/plain": [
       "False"
      ]
     },
     "execution_count": 3,
     "metadata": {},
     "output_type": "execute_result"
    }
   ],
   "source": [
    "a1 and b1"
   ]
  },
  {
   "cell_type": "code",
   "execution_count": 4,
   "id": "bf2e9339",
   "metadata": {},
   "outputs": [
    {
     "data": {
      "text/plain": [
       "False"
      ]
     },
     "execution_count": 4,
     "metadata": {},
     "output_type": "execute_result"
    }
   ],
   "source": [
    "a1 & b1"
   ]
  },
  {
   "cell_type": "code",
   "execution_count": 5,
   "id": "7434b5f2",
   "metadata": {},
   "outputs": [
    {
     "data": {
      "text/plain": [
       "True"
      ]
     },
     "execution_count": 5,
     "metadata": {},
     "output_type": "execute_result"
    }
   ],
   "source": [
    "a1 | b1"
   ]
  },
  {
   "cell_type": "code",
   "execution_count": 6,
   "id": "f851d669",
   "metadata": {},
   "outputs": [
    {
     "data": {
      "text/plain": [
       "True"
      ]
     },
     "execution_count": 6,
     "metadata": {},
     "output_type": "execute_result"
    }
   ],
   "source": [
    "a1 or b1"
   ]
  },
  {
   "cell_type": "code",
   "execution_count": 8,
   "id": "18e80ebe",
   "metadata": {},
   "outputs": [
    {
     "name": "stdout",
     "output_type": "stream",
     "text": [
      "Abhishek\n",
      "<class 'str'>\n"
     ]
    }
   ],
   "source": [
    "#strings\n",
    "name1 = \"Abhishek\"\n",
    "\n",
    "print(name1)\n",
    "\n",
    "\n",
    "print(type(name1))"
   ]
  },
  {
   "cell_type": "code",
   "execution_count": 9,
   "id": "4066baf3",
   "metadata": {},
   "outputs": [
    {
     "data": {
      "text/plain": [
       "'AbhishekUpadhayay'"
      ]
     },
     "execution_count": 9,
     "metadata": {},
     "output_type": "execute_result"
    }
   ],
   "source": [
    "#Concatenation of strings\n",
    "\n",
    "name1+ \"Upadhayay\"\n"
   ]
  },
  {
   "cell_type": "code",
   "execution_count": 10,
   "id": "b3972f3c",
   "metadata": {},
   "outputs": [
    {
     "data": {
      "text/plain": [
       "(1-2.3j)"
      ]
     },
     "execution_count": 10,
     "metadata": {},
     "output_type": "execute_result"
    }
   ],
   "source": [
    "#Complex Numbers\n",
    "k=1.0-2.3j\n",
    "k"
   ]
  },
  {
   "cell_type": "code",
   "execution_count": 12,
   "id": "63f4354e",
   "metadata": {},
   "outputs": [
    {
     "name": "stdout",
     "output_type": "stream",
     "text": [
      "1.0 -2.3\n"
     ]
    }
   ],
   "source": [
    "print(k.real, k.imag)"
   ]
  },
  {
   "cell_type": "code",
   "execution_count": 13,
   "id": "5fabd9a2",
   "metadata": {},
   "outputs": [],
   "source": [
    "#Dynamic Typing\n",
    "a = 10\n",
    "a = \"Abhishek\""
   ]
  },
  {
   "cell_type": "code",
   "execution_count": 14,
   "id": "d04c834e",
   "metadata": {},
   "outputs": [],
   "source": [
    "#Strong typing\n",
    "c = \"Abhishek\""
   ]
  },
  {
   "cell_type": "code",
   "execution_count": 16,
   "id": "02aa3ad2",
   "metadata": {},
   "outputs": [
    {
     "data": {
      "text/plain": [
       "'AbhishekAin'"
      ]
     },
     "execution_count": 16,
     "metadata": {},
     "output_type": "execute_result"
    }
   ],
   "source": [
    "c + \"Ain\""
   ]
  },
  {
   "cell_type": "code",
   "execution_count": 17,
   "id": "9cf2d15c",
   "metadata": {},
   "outputs": [
    {
     "ename": "TypeError",
     "evalue": "can only concatenate str (not \"int\") to str",
     "output_type": "error",
     "traceback": [
      "\u001b[1;31m---------------------------------------------------------------------------\u001b[0m",
      "\u001b[1;31mTypeError\u001b[0m                                 Traceback (most recent call last)",
      "\u001b[1;32m<ipython-input-17-f792668f1901>\u001b[0m in \u001b[0;36m<module>\u001b[1;34m\u001b[0m\n\u001b[1;32m----> 1\u001b[1;33m \u001b[0mc\u001b[0m \u001b[1;33m+\u001b[0m \u001b[1;36m1\u001b[0m\u001b[1;33m\u001b[0m\u001b[1;33m\u001b[0m\u001b[0m\n\u001b[0m",
      "\u001b[1;31mTypeError\u001b[0m: can only concatenate str (not \"int\") to str"
     ]
    }
   ],
   "source": [
    "c + 1"
   ]
  },
  {
   "cell_type": "code",
   "execution_count": 18,
   "id": "237d4918",
   "metadata": {},
   "outputs": [
    {
     "data": {
      "text/plain": [
       "'Abhishek2'"
      ]
     },
     "execution_count": 18,
     "metadata": {},
     "output_type": "execute_result"
    }
   ],
   "source": [
    "c + \"2\""
   ]
  },
  {
   "cell_type": "code",
   "execution_count": 21,
   "id": "018af219",
   "metadata": {},
   "outputs": [
    {
     "name": "stdout",
     "output_type": "stream",
     "text": [
      "The value is - 500\n"
     ]
    }
   ],
   "source": [
    "#String Formatting\n",
    "\n",
    "a = 500\n",
    "print(\"The value is -\",a)"
   ]
  },
  {
   "cell_type": "code",
   "execution_count": 22,
   "id": "a2785ae1",
   "metadata": {},
   "outputs": [
    {
     "name": "stdout",
     "output_type": "stream",
     "text": [
      "The first name is Abhishek and the last name is Upadhayay\n"
     ]
    }
   ],
   "source": [
    "# String Formatting using Placeholders{} and .fomat()\n",
    "\n",
    "first_name = \"Abhishek\"\n",
    "last_name = \"Upadhayay\"\n",
    "print(\"The first name is {} and the last name is {}\".format(first_name, last_name))"
   ]
  },
  {
   "cell_type": "code",
   "execution_count": 25,
   "id": "8876a983",
   "metadata": {},
   "outputs": [
    {
     "name": "stdout",
     "output_type": "stream",
     "text": [
      "The first name is Abhishek and the last name is Upadhayay\n"
     ]
    }
   ],
   "source": [
    "first_name = \"Abhishek\"\n",
    "last_name = \"Upadhayay\"\n",
    "print(\"The first name is {1} and the last name is {0}\".format(last_name, first_name))"
   ]
  },
  {
   "cell_type": "code",
   "execution_count": 26,
   "id": "3d331643",
   "metadata": {},
   "outputs": [
    {
     "name": "stdout",
     "output_type": "stream",
     "text": [
      "The first name is Abhishek and the last name is Upadhayay\n"
     ]
    }
   ],
   "source": [
    "\n",
    "first_name = \"Abhishek\"\n",
    "last_name = \"Upadhayay\"\n",
    "print(\"The first name is {a} and the last name is {b}\".format(b = last_name, a = first_name))"
   ]
  },
  {
   "cell_type": "code",
   "execution_count": 27,
   "id": "3294aebc",
   "metadata": {},
   "outputs": [
    {
     "name": "stdout",
     "output_type": "stream",
     "text": [
      "Enter the number A 10\n",
      "enter the number B 20\n",
      "30\n"
     ]
    }
   ],
   "source": [
    "## input type\n",
    "a=input(\"Enter the number A \")\n",
    "b=input(\"enter the number B \") \n",
    "print(int(a)+int(b))"
   ]
  },
  {
   "cell_type": "code",
   "execution_count": null,
   "id": "a2c17de7",
   "metadata": {},
   "outputs": [],
   "source": []
  }
 ],
 "metadata": {
  "kernelspec": {
   "display_name": "Python 3",
   "language": "python",
   "name": "python3"
  },
  "language_info": {
   "codemirror_mode": {
    "name": "ipython",
    "version": 3
   },
   "file_extension": ".py",
   "mimetype": "text/x-python",
   "name": "python",
   "nbconvert_exporter": "python",
   "pygments_lexer": "ipython3",
   "version": "3.8.8"
  }
 },
 "nbformat": 4,
 "nbformat_minor": 5
}
